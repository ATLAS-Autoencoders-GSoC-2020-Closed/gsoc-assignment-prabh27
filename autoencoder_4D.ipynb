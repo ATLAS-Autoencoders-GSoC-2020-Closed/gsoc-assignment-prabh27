{
 "cells": [
  {
   "cell_type": "markdown",
   "metadata": {},
   "source": [
    "## Motivation: The number of proton-proton collision events at the Large Hadron Collider, at CERN is huge. Recording and storing all this information is a challenge for the project. Therefore, the ATLAS experiment uses a trigger-system, which selects and sends interesting events to the data storage system. (More about ATLAS: https://atlas.cern/discover/about)"
   ]
  },
  {
   "cell_type": "markdown",
   "metadata": {},
   "source": [
    "<img src=\"./storage.png\" alt=\"Drawing\" style=\"width: 600px;\"/>"
   ]
  },
  {
   "cell_type": "markdown",
   "metadata": {},
   "source": [
    "The above graph shows the estimation of disk storage in the near future. \n",
    "(Source of the above image: https://twiki.cern.ch/twiki/bin/view/AtlasPublic/ComputingandSoftwarePublicResults)"
   ]
  },
  {
   "cell_type": "markdown",
   "metadata": {},
   "source": [
    "Even after the reduced storage model, we require a lot of disk storage.\n",
    "### Can we reduce our data storage and store only useful information?"
   ]
  },
  {
   "cell_type": "markdown",
   "metadata": {},
   "source": [
    "Enormous Data, Data Compression, Useful Data Extraction. Sounds like Deep Learning would love to handle this task."
   ]
  },
  {
   "cell_type": "markdown",
   "metadata": {},
   "source": [
    "Apart from Deep Learning, there are other Machine Learning algorithms that can help extract useful information from the data and reduce the dimensionality. "
   ]
  },
  {
   "cell_type": "markdown",
   "metadata": {},
   "source": [
    "Dimensionality Reduction is the process of reducing the number of random variables under consideration by obtaining a set of principal variables. This can be done by feature selection or feature extraction."
   ]
  },
  {
   "cell_type": "markdown",
   "metadata": {},
   "source": [
    "Feature extraction transforms the data in a high-dimensional space to a low-dimesional space."
   ]
  },
  {
   "cell_type": "markdown",
   "metadata": {},
   "source": [
    "One of the linear feature extraction transformation is Principal Component Analysis (PCA).\n",
    "PCA is an orthogonal projection or transformation of the data into a (possibly lower dimensional) subspace so that the variance of the projected data is maximized. \n",
    "\n",
    "(Source: http://www.cs.cmu.edu/~ninamf/courses/601sp15/slides/22_pca-04-09-2015.pdf)"
   ]
  },
  {
   "cell_type": "markdown",
   "metadata": {},
   "source": [
    "As PCA is a linear transformation, it might lose information if the features have a non-linearity relation among them. We can use Kernel PCA to include non-linearity, however, this model will be restricted by kernel's representation ability. Any other complex function might not be projected by Kernel PCA."
   ]
  },
  {
   "cell_type": "markdown",
   "metadata": {},
   "source": [
    "On the other hand, autoencoders use Neural Networks, and NNs can represent complex functions. Therefore, if we have a large dataset, and complex functions, autoencoders can give us pretty good compression with less information loss. "
   ]
  },
  {
   "cell_type": "markdown",
   "metadata": {},
   "source": [
    "Let's look at the performance of PCA and autoencoders on a few functions:"
   ]
  },
  {
   "cell_type": "markdown",
   "metadata": {},
   "source": [
    "<img src=\"./pca_autoencoders.png\" alt=\"Drawing\" style=\"width: 800px;\"/>"
   ]
  },
  {
   "cell_type": "markdown",
   "metadata": {},
   "source": [
    "Source of the image: https://towardsdatascience.com/autoencoders-vs-pca-when-to-use-which-73de063f5d7"
   ]
  },
  {
   "cell_type": "markdown",
   "metadata": {},
   "source": [
    "Therefore, for our original dataset (27 variables), autoencoders are the best candidates for data compression."
   ]
  },
  {
   "cell_type": "markdown",
   "metadata": {},
   "source": [
    "Let's understand the principle of dimensionality reduction with the help of an encoder and a decoder:"
   ]
  },
  {
   "cell_type": "markdown",
   "metadata": {},
   "source": [
    "<img src=\"./compression.png\" alt=\"Drawing\" style=\"width: 1000px;\"/>"
   ]
  },
  {
   "cell_type": "markdown",
   "metadata": {},
   "source": [
    "Source of the above image: https://towardsdatascience.com/understanding-variational-autoencoders-vaes-f70510919f73"
   ]
  },
  {
   "cell_type": "markdown",
   "metadata": {},
   "source": [
    "An autoencoder is a model that uses neural networks for an encoder and a decoder. Neural Networks follow Gradient Descent for optimization. In the case of an autoencoder, mean squared error (MSE) is a good measurement of the how well the autoencoder is performing."
   ]
  },
  {
   "cell_type": "markdown",
   "metadata": {},
   "source": [
    "<img src=\"./autoencoder.png\" alt=\"Drawing\" style=\"width: 1000px;\"/>"
   ]
  },
  {
   "cell_type": "markdown",
   "metadata": {},
   "source": [
    "Source of the above image: https://towardsdatascience.com/understanding-variational-autoencoders-vaes-f70510919f73"
   ]
  },
  {
   "cell_type": "markdown",
   "metadata": {},
   "source": [
    "### Before reducing the dimensionality of 27 variables, let us get the best parameters and finetune our autoencoder for 4 variables."
   ]
  },
  {
   "cell_type": "markdown",
   "metadata": {},
   "source": [
    "Analyzing the autoencoder for 4 variables and finetuning it will save a lot of time, and will help us understand the whole architecture of an autoencoder in depth."
   ]
  },
  {
   "cell_type": "markdown",
   "metadata": {},
   "source": [
    "### Goal: Prepare an autoencoder to convert the given dataset from 4 variables to 3 variables."
   ]
  },
  {
   "cell_type": "code",
   "execution_count": 1,
   "metadata": {},
   "outputs": [],
   "source": [
    "%reload_ext autoreload\n",
    "%autoreload 2\n",
    "%matplotlib inline"
   ]
  },
  {
   "cell_type": "code",
   "execution_count": 2,
   "metadata": {},
   "outputs": [],
   "source": [
    "import pandas as pd"
   ]
  },
  {
   "cell_type": "markdown",
   "metadata": {},
   "source": [
    "# Read from Pickle file"
   ]
  },
  {
   "cell_type": "markdown",
   "metadata": {},
   "source": [
    "### Training Data"
   ]
  },
  {
   "cell_type": "code",
   "execution_count": 3,
   "metadata": {},
   "outputs": [
    {
     "data": {
      "text/html": [
       "<div>\n",
       "<style scoped>\n",
       "    .dataframe tbody tr th:only-of-type {\n",
       "        vertical-align: middle;\n",
       "    }\n",
       "\n",
       "    .dataframe tbody tr th {\n",
       "        vertical-align: top;\n",
       "    }\n",
       "\n",
       "    .dataframe thead th {\n",
       "        text-align: right;\n",
       "    }\n",
       "</style>\n",
       "<table border=\"1\" class=\"dataframe\">\n",
       "  <thead>\n",
       "    <tr style=\"text-align: right;\">\n",
       "      <th></th>\n",
       "      <th>m</th>\n",
       "      <th>pt</th>\n",
       "      <th>phi</th>\n",
       "      <th>eta</th>\n",
       "    </tr>\n",
       "  </thead>\n",
       "  <tbody>\n",
       "    <tr>\n",
       "      <th>132784</th>\n",
       "      <td>3831.839355</td>\n",
       "      <td>22000.609375</td>\n",
       "      <td>1.567018</td>\n",
       "      <td>1.142924</td>\n",
       "    </tr>\n",
       "    <tr>\n",
       "      <th>99666</th>\n",
       "      <td>4582.417480</td>\n",
       "      <td>21648.210938</td>\n",
       "      <td>-2.680558</td>\n",
       "      <td>0.213654</td>\n",
       "    </tr>\n",
       "    <tr>\n",
       "      <th>26629</th>\n",
       "      <td>16747.765625</td>\n",
       "      <td>169514.281250</td>\n",
       "      <td>-1.948239</td>\n",
       "      <td>1.163296</td>\n",
       "    </tr>\n",
       "    <tr>\n",
       "      <th>80473</th>\n",
       "      <td>14789.586914</td>\n",
       "      <td>183085.609375</td>\n",
       "      <td>-1.641102</td>\n",
       "      <td>2.670927</td>\n",
       "    </tr>\n",
       "    <tr>\n",
       "      <th>48229</th>\n",
       "      <td>4646.724121</td>\n",
       "      <td>20527.130859</td>\n",
       "      <td>2.922270</td>\n",
       "      <td>-1.158871</td>\n",
       "    </tr>\n",
       "  </tbody>\n",
       "</table>\n",
       "</div>"
      ],
      "text/plain": [
       "                   m             pt       phi       eta\n",
       "132784   3831.839355   22000.609375  1.567018  1.142924\n",
       "99666    4582.417480   21648.210938 -2.680558  0.213654\n",
       "26629   16747.765625  169514.281250 -1.948239  1.163296\n",
       "80473   14789.586914  183085.609375 -1.641102  2.670927\n",
       "48229    4646.724121   20527.130859  2.922270 -1.158871"
      ]
     },
     "execution_count": 3,
     "metadata": {},
     "output_type": "execute_result"
    }
   ],
   "source": [
    "train = pd.read_pickle(\"dataset/all_jets_train_4D_100_percent.pkl\")\n",
    "train.head()"
   ]
  },
  {
   "cell_type": "markdown",
   "metadata": {},
   "source": [
    "### Test Data"
   ]
  },
  {
   "cell_type": "code",
   "execution_count": 4,
   "metadata": {
    "scrolled": true
   },
   "outputs": [
    {
     "data": {
      "text/html": [
       "<div>\n",
       "<style scoped>\n",
       "    .dataframe tbody tr th:only-of-type {\n",
       "        vertical-align: middle;\n",
       "    }\n",
       "\n",
       "    .dataframe tbody tr th {\n",
       "        vertical-align: top;\n",
       "    }\n",
       "\n",
       "    .dataframe thead th {\n",
       "        text-align: right;\n",
       "    }\n",
       "</style>\n",
       "<table border=\"1\" class=\"dataframe\">\n",
       "  <thead>\n",
       "    <tr style=\"text-align: right;\">\n",
       "      <th></th>\n",
       "      <th>m</th>\n",
       "      <th>pt</th>\n",
       "      <th>phi</th>\n",
       "      <th>eta</th>\n",
       "    </tr>\n",
       "  </thead>\n",
       "  <tbody>\n",
       "    <tr>\n",
       "      <th>85972</th>\n",
       "      <td>4983.729980</td>\n",
       "      <td>23798.070312</td>\n",
       "      <td>1.962157</td>\n",
       "      <td>-0.059532</td>\n",
       "    </tr>\n",
       "    <tr>\n",
       "      <th>38742</th>\n",
       "      <td>5435.273438</td>\n",
       "      <td>21881.867188</td>\n",
       "      <td>1.035412</td>\n",
       "      <td>0.734343</td>\n",
       "    </tr>\n",
       "    <tr>\n",
       "      <th>128711</th>\n",
       "      <td>5239.408691</td>\n",
       "      <td>24608.134766</td>\n",
       "      <td>-1.121055</td>\n",
       "      <td>0.828848</td>\n",
       "    </tr>\n",
       "    <tr>\n",
       "      <th>28751</th>\n",
       "      <td>14121.240234</td>\n",
       "      <td>203110.953125</td>\n",
       "      <td>0.324205</td>\n",
       "      <td>-2.571108</td>\n",
       "    </tr>\n",
       "    <tr>\n",
       "      <th>131358</th>\n",
       "      <td>3344.826660</td>\n",
       "      <td>24897.294922</td>\n",
       "      <td>0.395331</td>\n",
       "      <td>1.440069</td>\n",
       "    </tr>\n",
       "  </tbody>\n",
       "</table>\n",
       "</div>"
      ],
      "text/plain": [
       "                   m             pt       phi       eta\n",
       "85972    4983.729980   23798.070312  1.962157 -0.059532\n",
       "38742    5435.273438   21881.867188  1.035412  0.734343\n",
       "128711   5239.408691   24608.134766 -1.121055  0.828848\n",
       "28751   14121.240234  203110.953125  0.324205 -2.571108\n",
       "131358   3344.826660   24897.294922  0.395331  1.440069"
      ]
     },
     "execution_count": 4,
     "metadata": {},
     "output_type": "execute_result"
    }
   ],
   "source": [
    "test = pd.read_pickle(\"dataset/all_jets_test_4D_100_percent.pkl\")\n",
    "test.head()"
   ]
  },
  {
   "cell_type": "markdown",
   "metadata": {},
   "source": [
    "# Data Analysis\n",
    "Number of Training set examples: 111,778 \n",
    "\n",
    "Number of Test set examples: 27,945\n",
    "\n",
    "Train/Test Percentage: 60:40"
   ]
  },
  {
   "cell_type": "markdown",
   "metadata": {},
   "source": [
    "## Visualization"
   ]
  },
  {
   "cell_type": "code",
   "execution_count": 5,
   "metadata": {},
   "outputs": [],
   "source": [
    "import matplotlib.pyplot as plt\n",
    "import numpy as np; np.random.seed(10)\n",
    "import seaborn as sns; sns.set(color_codes=True)"
   ]
  },
  {
   "cell_type": "markdown",
   "metadata": {},
   "source": [
    "Code inspired from (https://github.com/Skelpdar/HEPAutoencoders/blob/master/process_ROOT_4D.ipynb)"
   ]
  },
  {
   "cell_type": "code",
   "execution_count": 6,
   "metadata": {},
   "outputs": [],
   "source": [
    "# Store all the figures in the figures/ folder\n",
    "figures_folder = 'figures/'"
   ]
  },
  {
   "cell_type": "code",
   "execution_count": 7,
   "metadata": {},
   "outputs": [
    {
     "data": {
      "image/png": "[encoded data removed]",
      "text/plain": [
       "<Figure size 432x288 with 1 Axes>"
      ]
     },
     "metadata": {},
     "output_type": "display_data"
    },
    {
     "data": {
      "image/png": "[encoded data removed]",
      "text/plain": [
       "<Figure size 432x288 with 1 Axes>"
      ]
     },
     "metadata": {},
     "output_type": "display_data"
    },
    {
     "data": {
      "image/png": "[encoded data removed]",
      "text/plain": [
       "<Figure size 432x288 with 1 Axes>"
      ]
     },
     "metadata": {},
     "output_type": "display_data"
    },
    {
     "data": {
      "image/png": "[encoded data removed]",
      "text/plain": [
       "<Figure size 432x288 with 1 Axes>"
      ]
     },
     "metadata": {},
     "output_type": "display_data"
    }
   ],
   "source": [
    "plt.close('all')\n",
    "unit_list = ['[GeV]', '[Gev]', '[rad]', '[rad]']\n",
    "variable_list = [r'$m$', r'$p_T$', r'$\\phi$', r'$\\eta$']\n",
    "line_style = ['--', '-']\n",
    "colors = ['orange', 'c']\n",
    "markers = ['*', 's']\n",
    "\n",
    "# Histograms\n",
    "alpha = 1\n",
    "n_bins = 50\n",
    "for i in np.arange(4):\n",
    "    plt.figure(i + 4)\n",
    "    n_hist_data, bin_edges, _ = plt.hist(train.iloc[:,i], color=colors[1], label='Input', alpha=alpha, bins=n_bins)\n",
    "    plt.suptitle(test.columns[i])\n",
    "    plt.xlabel(variable_list[i] + ' ' + unit_list[i])\n",
    "    plt.ylabel('Number of events')\n",
    "    plt.legend()\n",
    "    fig_name = 'train_data_hist_%s' % train.columns[i]\n",
    "#     plt.savefig(figures_folder + fig_name)"
   ]
  },
  {
   "cell_type": "markdown",
   "metadata": {},
   "source": [
    "### Mean and Std of each variable"
   ]
  },
  {
   "cell_type": "code",
   "execution_count": 8,
   "metadata": {},
   "outputs": [
    {
     "name": "stdout",
     "output_type": "stream",
     "text": [
      "Std:\n",
      " m       7421.270111\n",
      "pt     69874.993026\n",
      "phi        1.803151\n",
      "eta        1.448439\n",
      "dtype: float64\n",
      "Mean:\n",
      " m       8941.356799\n",
      "pt     64458.683471\n",
      "phi        0.001691\n",
      "eta        0.043500\n",
      "dtype: float64\n"
     ]
    }
   ],
   "source": [
    "print(\"Std:\\n\", train.std())\n",
    "print(\"Mean:\\n\", train.mean())"
   ]
  },
  {
   "cell_type": "markdown",
   "metadata": {},
   "source": [
    "### Looking at the above values, it is better to scale all the 4 variables for our NN to converge faster."
   ]
  },
  {
   "cell_type": "markdown",
   "metadata": {},
   "source": [
    "## Data Preprocessing\n",
    "#### Why scaling helps: https://towardsdatascience.com/scale-standardize-or-normalize-with-scikit-learn-6ccc7d176a02"
   ]
  },
  {
   "cell_type": "code",
   "execution_count": 9,
   "metadata": {},
   "outputs": [
    {
     "data": {
      "text/html": [
       "<div>\n",
       "<style scoped>\n",
       "    .dataframe tbody tr th:only-of-type {\n",
       "        vertical-align: middle;\n",
       "    }\n",
       "\n",
       "    .dataframe tbody tr th {\n",
       "        vertical-align: top;\n",
       "    }\n",
       "\n",
       "    .dataframe thead th {\n",
       "        text-align: right;\n",
       "    }\n",
       "</style>\n",
       "<table border=\"1\" class=\"dataframe\">\n",
       "  <thead>\n",
       "    <tr style=\"text-align: right;\">\n",
       "      <th></th>\n",
       "      <th>m</th>\n",
       "      <th>pt</th>\n",
       "      <th>phi</th>\n",
       "      <th>eta</th>\n",
       "    </tr>\n",
       "  </thead>\n",
       "  <tbody>\n",
       "    <tr>\n",
       "      <th>132784</th>\n",
       "      <td>-0.688499</td>\n",
       "      <td>-0.607632</td>\n",
       "      <td>0.868110</td>\n",
       "      <td>0.759044</td>\n",
       "    </tr>\n",
       "    <tr>\n",
       "      <th>99666</th>\n",
       "      <td>-0.587360</td>\n",
       "      <td>-0.612675</td>\n",
       "      <td>-1.487541</td>\n",
       "      <td>0.117475</td>\n",
       "    </tr>\n",
       "    <tr>\n",
       "      <th>26629</th>\n",
       "      <td>1.051901</td>\n",
       "      <td>1.503486</td>\n",
       "      <td>-1.081406</td>\n",
       "      <td>0.773109</td>\n",
       "    </tr>\n",
       "    <tr>\n",
       "      <th>80473</th>\n",
       "      <td>0.788040</td>\n",
       "      <td>1.697710</td>\n",
       "      <td>-0.911072</td>\n",
       "      <td>1.813980</td>\n",
       "    </tr>\n",
       "    <tr>\n",
       "      <th>48229</th>\n",
       "      <td>-0.578695</td>\n",
       "      <td>-0.628719</td>\n",
       "      <td>1.619716</td>\n",
       "      <td>-0.830119</td>\n",
       "    </tr>\n",
       "  </tbody>\n",
       "</table>\n",
       "</div>"
      ],
      "text/plain": [
       "               m        pt       phi       eta\n",
       "132784 -0.688499 -0.607632  0.868110  0.759044\n",
       "99666  -0.587360 -0.612675 -1.487541  0.117475\n",
       "26629   1.051901  1.503486 -1.081406  0.773109\n",
       "80473   0.788040  1.697710 -0.911072  1.813980\n",
       "48229  -0.578695 -0.628719  1.619716 -0.830119"
      ]
     },
     "execution_count": 9,
     "metadata": {},
     "output_type": "execute_result"
    }
   ],
   "source": [
    "from sklearn.preprocessing import MinMaxScaler\n",
    "from sklearn.preprocessing import StandardScaler\n",
    "\n",
    "# Scaling some features\n",
    "# MinMax scaler preseves the shape, range is 0-1, doesn't reduce the outliers. Usually a good start.\n",
    "# scaler = MinMaxScaler()\n",
    "\n",
    "# Better for NNs, mean = 0, variance = 1. Normalizes your data. If you have outliers, this will be a good scale.\n",
    "scaler = StandardScaler()\n",
    "\n",
    "# Always use training data for fitting. In real scenarios, you don't have the mean and std of the test data.\n",
    "scaler.fit(train[['m', 'pt', 'phi', 'eta']])\n",
    "\n",
    "# NN works best with scaled data\n",
    "train[['m', 'pt', 'phi', 'eta']] = scaler.transform(train[['m', 'pt', 'phi', 'eta']])\n",
    "\n",
    "test[['m', 'pt', 'phi', 'eta']] = scaler.transform(test[['m', 'pt', 'phi', 'eta']])\n",
    "\n",
    "train.head()"
   ]
  },
  {
   "cell_type": "markdown",
   "metadata": {},
   "source": [
    "### Plot the scaled data"
   ]
  },
  {
   "cell_type": "code",
   "execution_count": 10,
   "metadata": {},
   "outputs": [
    {
     "data": {
      "image/png": "[encoded data removed]",
      "text/plain": [
       "<Figure size 432x288 with 1 Axes>"
      ]
     },
     "metadata": {},
     "output_type": "display_data"
    },
    {
     "data": {
      "image/png": "[encoded data removed]",
      "text/plain": [
       "<Figure size 432x288 with 1 Axes>"
      ]
     },
     "metadata": {},
     "output_type": "display_data"
    },
    {
     "data": {
      "image/png": "[encoded data removed]",
      "text/plain": [
       "<Figure size 432x288 with 1 Axes>"
      ]
     },
     "metadata": {},
     "output_type": "display_data"
    },
    {
     "data": {
      "image/png": "[encoded data removed]",
      "text/plain": [
       "<Figure size 432x288 with 1 Axes>"
      ]
     },
     "metadata": {},
     "output_type": "display_data"
    }
   ],
   "source": [
    "plt.close('all')\n",
    "unit_list = ['[GeV]', '[Gev]', '[rad]', '[rad]']\n",
    "variable_list = [r'$m$', r'$p_T$', r'$\\phi$', r'$\\eta$']\n",
    "line_style = ['--', '-']\n",
    "colors = ['orange', 'c']\n",
    "markers = ['*', 's']\n",
    "\n",
    "# Histograms\n",
    "alpha = 1\n",
    "n_bins = 50\n",
    "for i in np.arange(4):\n",
    "    plt.figure(i + 4)\n",
    "    n_hist_data, bin_edges, _ = plt.hist(train.iloc[:,i], color=colors[1], label='Input', alpha=alpha, bins=n_bins)\n",
    "    plt.suptitle(test.columns[i])\n",
    "    plt.xlabel(variable_list[i] + ' ' + unit_list[i])\n",
    "    plt.ylabel('Number of events')\n",
    "    plt.legend()\n",
    "    fig_name = 'train_data_hist_%s' % train.columns[i]\n",
    "#     plt.savefig(figures_folder + fig_name)"
   ]
  },
  {
   "cell_type": "markdown",
   "metadata": {},
   "source": [
    "### Loading the saved autoencoder model"
   ]
  },
  {
   "cell_type": "code",
   "execution_count": 11,
   "metadata": {},
   "outputs": [],
   "source": [
    "from fastai import data_block, basic_train, basic_data\n",
    "from torch.utils.data import TensorDataset\n",
    "from torch.utils.data import DataLoader\n",
    "from fastai.callbacks import ActivationStats\n",
    "from fastai import train as tr\n",
    "import torch\n",
    "from fastai.basics import DataBunch, Path, nn, ClassificationInterpretation\n",
    "from HEPAutoencoders.nn_utils import AE_big, AE_3D_200"
   ]
  },
  {
   "cell_type": "code",
   "execution_count": 12,
   "metadata": {},
   "outputs": [],
   "source": [
    "x_train = np.array(train, dtype=np.float32)\n",
    "x_test= np.array(test, dtype=np.float32)"
   ]
  },
  {
   "cell_type": "code",
   "execution_count": 14,
   "metadata": {},
   "outputs": [
    {
     "data": {
      "text/plain": [
       "dtype('float32')"
      ]
     },
     "execution_count": 14,
     "metadata": {},
     "output_type": "execute_result"
    }
   ],
   "source": [
    "x_train.dtype"
   ]
  },
  {
   "cell_type": "code",
   "execution_count": 15,
   "metadata": {},
   "outputs": [],
   "source": [
    "# x == y because this is an autoencoder.\n",
    "x_train = y_train = x_train\n",
    "x_valid = y_valid = x_test\n",
    "\n",
    "bs=256\n",
    "train_ds = TensorDataset(torch.tensor(x_train), torch.tensor(y_train))\n",
    "valid_ds = TensorDataset(torch.tensor(x_valid), torch.tensor(y_valid))\n",
    "\n",
    "data = DataBunch.create(train_ds, valid_ds, bs=bs)"
   ]
  },
  {
   "cell_type": "code",
   "execution_count": 16,
   "metadata": {},
   "outputs": [
    {
     "data": {
      "text/plain": [
       "(torch.Size([256, 4]), torch.Size([256, 4]))"
      ]
     },
     "execution_count": 16,
     "metadata": {},
     "output_type": "execute_result"
    }
   ],
   "source": [
    "x,y = next(iter(data.train_dl))\n",
    "x.shape,y.shape"
   ]
  },
  {
   "cell_type": "code",
   "execution_count": 17,
   "metadata": {},
   "outputs": [
    {
     "data": {
      "text/plain": [
       "DataBunch;\n",
       "\n",
       "Train: <torch.utils.data.dataset.TensorDataset object at 0x7f43edd63d90>;\n",
       "\n",
       "Valid: <torch.utils.data.dataset.TensorDataset object at 0x7f43983d66d0>;\n",
       "\n",
       "Test: None"
      ]
     },
     "execution_count": 17,
     "metadata": {},
     "output_type": "execute_result"
    }
   ],
   "source": [
    "data"
   ]
  },
  {
   "cell_type": "code",
   "execution_count": 18,
   "metadata": {},
   "outputs": [],
   "source": [
    "model = AE_3D_200()\n",
    "model_path = '/home/pbaweja/autoencoder/HEPAutoencoders/4D/models/AE_3D_200_no1cycle_trainforever'\n",
    "bn_wd = False  # Don't use weight decay fpr batchnorm layers\n",
    "true_wd = True  # wd will be used for all optimizers\n",
    "wd = 1e-6\n",
    "loss_func = nn.MSELoss()"
   ]
  },
  {
   "cell_type": "code",
   "execution_count": 19,
   "metadata": {},
   "outputs": [],
   "source": [
    "learn = basic_train.Learner(data=data, \n",
    "                            model=model, \n",
    "                            loss_func=loss_func, \n",
    "                            wd=wd,\n",
    "                            callback_fns=ActivationStats, \n",
    "                            bn_wd=bn_wd, true_wd=true_wd)"
   ]
  },
  {
   "cell_type": "markdown",
   "metadata": {},
   "source": [
    "### We already have a trained model from Github (https://github.com/Skelpdar/HEPAutoencoders). I will load that model."
   ]
  },
  {
   "cell_type": "code",
   "execution_count": 20,
   "metadata": {
    "scrolled": false
   },
   "outputs": [
    {
     "data": {
      "text/plain": [
       "Learner(data=DataBunch;\n",
       "\n",
       "Train: <torch.utils.data.dataset.TensorDataset object at 0x7f43edd63d90>;\n",
       "\n",
       "Valid: <torch.utils.data.dataset.TensorDataset object at 0x7f43983d66d0>;\n",
       "\n",
       "Test: None, model=AE_3D_200(\n",
       "  (en1): Linear(in_features=4, out_features=200, bias=True)\n",
       "  (en2): Linear(in_features=200, out_features=100, bias=True)\n",
       "  (en3): Linear(in_features=100, out_features=50, bias=True)\n",
       "  (en4): Linear(in_features=50, out_features=3, bias=True)\n",
       "  (de1): Linear(in_features=3, out_features=50, bias=True)\n",
       "  (de2): Linear(in_features=50, out_features=100, bias=True)\n",
       "  (de3): Linear(in_features=100, out_features=200, bias=True)\n",
       "  (de4): Linear(in_features=200, out_features=4, bias=True)\n",
       "  (tanh): Tanh()\n",
       "), opt_func=functools.partial(<class 'torch.optim.adam.Adam'>, betas=(0.9, 0.99)), loss_func=MSELoss(), metrics=[], true_wd=True, bn_wd=False, wd=1e-06, train_bn=True, path=PosixPath('.'), model_dir='models', callback_fns=[functools.partial(<class 'fastai.basic_train.Recorder'>, add_time=True, silent=False), <class 'fastai.callbacks.hooks.ActivationStats'>], callbacks=[], layer_groups=[Sequential(\n",
       "  (0): Linear(in_features=4, out_features=200, bias=True)\n",
       "  (1): Linear(in_features=200, out_features=100, bias=True)\n",
       "  (2): Linear(in_features=100, out_features=50, bias=True)\n",
       "  (3): Linear(in_features=50, out_features=3, bias=True)\n",
       "  (4): Linear(in_features=3, out_features=50, bias=True)\n",
       "  (5): Linear(in_features=50, out_features=100, bias=True)\n",
       "  (6): Linear(in_features=100, out_features=200, bias=True)\n",
       "  (7): Linear(in_features=200, out_features=4, bias=True)\n",
       "  (8): Tanh()\n",
       ")], add_time=True, silent=False)"
      ]
     },
     "execution_count": 20,
     "metadata": {},
     "output_type": "execute_result"
    }
   ],
   "source": [
    "learn.load(model_path)"
   ]
  },
  {
   "cell_type": "markdown",
   "metadata": {},
   "source": [
    "### Validation Loss"
   ]
  },
  {
   "cell_type": "code",
   "execution_count": 21,
   "metadata": {
    "scrolled": true
   },
   "outputs": [
    {
     "data": {
      "text/html": [],
      "text/plain": [
       "<IPython.core.display.HTML object>"
      ]
     },
     "metadata": {},
     "output_type": "display_data"
    },
    {
     "data": {
      "text/plain": [
       "[0.50589246]"
      ]
     },
     "execution_count": 21,
     "metadata": {},
     "output_type": "execute_result"
    }
   ],
   "source": [
    "learn.validate()"
   ]
  },
  {
   "cell_type": "markdown",
   "metadata": {},
   "source": [
    "Let's train the model for a few more epochs."
   ]
  },
  {
   "cell_type": "markdown",
   "metadata": {},
   "source": [
    "### Fastai helps in finding the best learning rate for the model. "
   ]
  },
  {
   "cell_type": "code",
   "execution_count": 22,
   "metadata": {},
   "outputs": [
    {
     "data": {
      "text/html": [
       "\n",
       "    <div>\n",
       "        <style>\n",
       "            /* Turns off some styling */\n",
       "            progress {\n",
       "                /* gets rid of default border in Firefox and Opera. */\n",
       "                border: none;\n",
       "                /* Needs to be in here for Safari polyfill so background images work as expected. */\n",
       "                background-size: auto;\n",
       "            }\n",
       "            .progress-bar-interrupted, .progress-bar-interrupted::-webkit-progress-bar {\n",
       "                background: #F44336;\n",
       "            }\n",
       "        </style>\n",
       "      <progress value='0' class='' max='1', style='width:300px; height:20px; vertical-align: middle;'></progress>\n",
       "      0.00% [0/1 00:00<00:00]\n",
       "    </div>\n",
       "    \n",
       "<table border=\"1\" class=\"dataframe\">\n",
       "  <thead>\n",
       "    <tr style=\"text-align: left;\">\n",
       "      <th>epoch</th>\n",
       "      <th>train_loss</th>\n",
       "      <th>valid_loss</th>\n",
       "      <th>time</th>\n",
       "    </tr>\n",
       "  </thead>\n",
       "  <tbody>\n",
       "  </tbody>\n",
       "</table><p>\n",
       "\n",
       "    <div>\n",
       "        <style>\n",
       "            /* Turns off some styling */\n",
       "            progress {\n",
       "                /* gets rid of default border in Firefox and Opera. */\n",
       "                border: none;\n",
       "                /* Needs to be in here for Safari polyfill so background images work as expected. */\n",
       "                background-size: auto;\n",
       "            }\n",
       "            .progress-bar-interrupted, .progress-bar-interrupted::-webkit-progress-bar {\n",
       "                background: #F44336;\n",
       "            }\n",
       "        </style>\n",
       "      <progress value='72' class='' max='436', style='width:300px; height:20px; vertical-align: middle;'></progress>\n",
       "      16.51% [72/436 00:01<00:07 0.5231]\n",
       "    </div>\n",
       "    "
      ],
      "text/plain": [
       "<IPython.core.display.HTML object>"
      ]
     },
     "metadata": {},
     "output_type": "display_data"
    },
    {
     "name": "stdout",
     "output_type": "stream",
     "text": [
      "LR Finder is complete, type {learner_name}.recorder.plot() to see the graph.\n"
     ]
    }
   ],
   "source": [
    "tr.lr_find(learn)"
   ]
  },
  {
   "cell_type": "code",
   "execution_count": 23,
   "metadata": {
    "scrolled": true
   },
   "outputs": [
    {
     "data": {
      "image/png": "[encoded data removed]",
      "text/plain": [
       "<Figure size 432x288 with 1 Axes>"
      ]
     },
     "metadata": {},
     "output_type": "display_data"
    }
   ],
   "source": [
    "learn.recorder.plot()"
   ]
  },
  {
   "cell_type": "code",
   "execution_count": 24,
   "metadata": {},
   "outputs": [
    {
     "data": {
      "text/html": [
       "<table border=\"1\" class=\"dataframe\">\n",
       "  <thead>\n",
       "    <tr style=\"text-align: left;\">\n",
       "      <th>epoch</th>\n",
       "      <th>train_loss</th>\n",
       "      <th>valid_loss</th>\n",
       "      <th>time</th>\n",
       "    </tr>\n",
       "  </thead>\n",
       "  <tbody>\n",
       "    <tr>\n",
       "      <td>0</td>\n",
       "      <td>0.030258</td>\n",
       "      <td>0.029132</td>\n",
       "      <td>00:05</td>\n",
       "    </tr>\n",
       "    <tr>\n",
       "      <td>1</td>\n",
       "      <td>0.024728</td>\n",
       "      <td>0.025448</td>\n",
       "      <td>00:04</td>\n",
       "    </tr>\n",
       "    <tr>\n",
       "      <td>2</td>\n",
       "      <td>0.024071</td>\n",
       "      <td>0.024802</td>\n",
       "      <td>00:05</td>\n",
       "    </tr>\n",
       "    <tr>\n",
       "      <td>3</td>\n",
       "      <td>0.021921</td>\n",
       "      <td>0.023292</td>\n",
       "      <td>00:04</td>\n",
       "    </tr>\n",
       "    <tr>\n",
       "      <td>4</td>\n",
       "      <td>0.021339</td>\n",
       "      <td>0.022302</td>\n",
       "      <td>00:04</td>\n",
       "    </tr>\n",
       "    <tr>\n",
       "      <td>5</td>\n",
       "      <td>0.021143</td>\n",
       "      <td>0.021590</td>\n",
       "      <td>00:04</td>\n",
       "    </tr>\n",
       "    <tr>\n",
       "      <td>6</td>\n",
       "      <td>0.020632</td>\n",
       "      <td>0.021271</td>\n",
       "      <td>00:05</td>\n",
       "    </tr>\n",
       "    <tr>\n",
       "      <td>7</td>\n",
       "      <td>0.019927</td>\n",
       "      <td>0.020155</td>\n",
       "      <td>00:04</td>\n",
       "    </tr>\n",
       "    <tr>\n",
       "      <td>8</td>\n",
       "      <td>0.020038</td>\n",
       "      <td>0.019432</td>\n",
       "      <td>00:04</td>\n",
       "    </tr>\n",
       "    <tr>\n",
       "      <td>9</td>\n",
       "      <td>0.018332</td>\n",
       "      <td>0.019232</td>\n",
       "      <td>00:05</td>\n",
       "    </tr>\n",
       "  </tbody>\n",
       "</table>"
      ],
      "text/plain": [
       "<IPython.core.display.HTML object>"
      ]
     },
     "metadata": {},
     "output_type": "display_data"
    }
   ],
   "source": [
    "lr = 3e-4\n",
    "learn.fit(10, lr=lr, wd=wd)"
   ]
  },
  {
   "cell_type": "code",
   "execution_count": 25,
   "metadata": {
    "scrolled": true
   },
   "outputs": [
    {
     "data": {
      "image/png": "[encoded data removed]",
      "text/plain": [
       "<Figure size 432x288 with 1 Axes>"
      ]
     },
     "metadata": {},
     "output_type": "display_data"
    }
   ],
   "source": [
    "learn.recorder.plot_losses()\n",
    "plt.yscale('log')"
   ]
  },
  {
   "cell_type": "markdown",
   "metadata": {},
   "source": [
    "### Validation Loss"
   ]
  },
  {
   "cell_type": "code",
   "execution_count": 26,
   "metadata": {
    "scrolled": true
   },
   "outputs": [
    {
     "data": {
      "text/html": [],
      "text/plain": [
       "<IPython.core.display.HTML object>"
      ]
     },
     "metadata": {},
     "output_type": "display_data"
    },
    {
     "data": {
      "text/plain": [
       "[0.019232366]"
      ]
     },
     "execution_count": 26,
     "metadata": {},
     "output_type": "execute_result"
    }
   ],
   "source": [
    "learn.validate()"
   ]
  },
  {
   "cell_type": "markdown",
   "metadata": {},
   "source": [
    "### The trained model that is saved gives 50% validation loss. After training the model further for 10 epochs, we get down to ~2% validation loss."
   ]
  },
  {
   "cell_type": "markdown",
   "metadata": {},
   "source": [
    "Let's get the predicted data to visualize the performance of the autoencoder."
   ]
  },
  {
   "cell_type": "code",
   "execution_count": 31,
   "metadata": {},
   "outputs": [],
   "source": [
    "model.to('cpu')\n",
    "x_test = torch.tensor(x_test)"
   ]
  },
  {
   "cell_type": "code",
   "execution_count": 32,
   "metadata": {},
   "outputs": [
    {
     "data": {
      "text/plain": [
       "tensor([[-0.5333, -0.5819,  1.0872, -0.0711],\n",
       "        [-0.4724, -0.6093,  0.5733,  0.4770],\n",
       "        [-0.4988, -0.5703, -0.6227,  0.5422],\n",
       "        ...,\n",
       "        [-0.5517, -0.5617, -1.2107, -1.6051],\n",
       "        [-0.1767, -0.3924, -1.4821, -0.6032],\n",
       "        [ 0.0446, -0.1671, -1.1240,  0.3776]])"
      ]
     },
     "execution_count": 32,
     "metadata": {},
     "output_type": "execute_result"
    }
   ],
   "source": [
    "x_test"
   ]
  },
  {
   "cell_type": "code",
   "execution_count": 33,
   "metadata": {},
   "outputs": [],
   "source": [
    "pred = model(x_test).detach().numpy()"
   ]
  },
  {
   "cell_type": "code",
   "execution_count": 34,
   "metadata": {},
   "outputs": [
    {
     "data": {
      "text/plain": [
       "array([[-0.509084, -0.615814,  1.085099, -0.06576 ],\n",
       "       [-0.485258, -0.598302,  0.570309,  0.481909],\n",
       "       [-0.483176, -0.598545, -0.628233,  0.538099],\n",
       "       [ 0.607192,  1.738862,  0.1852  , -1.469093],\n",
       "       ...,\n",
       "       [-0.405194, -0.555613, -0.451022,  0.689724],\n",
       "       [-0.546646, -0.55984 , -1.213162, -1.603645],\n",
       "       [-0.162125, -0.416095, -1.487098, -0.593411],\n",
       "       [ 0.100845, -0.23135 , -1.129393,  0.414894]], dtype=float32)"
      ]
     },
     "execution_count": 34,
     "metadata": {},
     "output_type": "execute_result"
    }
   ],
   "source": [
    "pred"
   ]
  },
  {
   "cell_type": "markdown",
   "metadata": {},
   "source": [
    "## Plotting the predicted data and original data"
   ]
  },
  {
   "cell_type": "code",
   "execution_count": 37,
   "metadata": {},
   "outputs": [
    {
     "data": {
      "image/png": "[encoded data removed]",
      "text/plain": [
       "<Figure size 432x288 with 1 Axes>"
      ]
     },
     "metadata": {},
     "output_type": "display_data"
    },
    {
     "data": {
      "image/png": "[encoded data removed]",
      "text/plain": [
       "<Figure size 432x288 with 1 Axes>"
      ]
     },
     "metadata": {},
     "output_type": "display_data"
    },
    {
     "data": {
      "image/png": "[encoded data removed]",
      "text/plain": [
       "<Figure size 432x288 with 1 Axes>"
      ]
     },
     "metadata": {},
     "output_type": "display_data"
    },
    {
     "data": {
      "image/png": "[encoded data removed]",
      "text/plain": [
       "<Figure size 432x288 with 1 Axes>"
      ]
     },
     "metadata": {},
     "output_type": "display_data"
    }
   ],
   "source": [
    "plt.close('all')\n",
    "unit_list = ['[GeV]', '[Gev]', '[rad]', '[rad]']\n",
    "variable_list = [r'$m$', r'$p_T$', r'$\\phi$', r'$\\eta$']\n",
    "line_style = ['--', '-']\n",
    "colors = ['orange', 'c']\n",
    "markers = ['*', 's']\n",
    "\n",
    "# Histograms\n",
    "alpha = 1\n",
    "n_bins = 50\n",
    "for i in np.arange(4):\n",
    "    plt.figure(i + 4)\n",
    "    n_hist_data, bin_edges, _ = plt.hist(x_test[:,i], color=colors[1], label='Input', alpha=alpha, bins=n_bins)\n",
    "    n_hist_pred, _, _ = plt.hist(pred[:, i], color=colors[0], label='Output', alpha=alpha, bins=n_bins)\n",
    "    plt.suptitle(train.columns[i])\n",
    "    plt.xlabel(variable_list[i] + ' ' + unit_list[i])\n",
    "    plt.ylabel('Number of events')\n",
    "    plt.legend()\n",
    "    fig_name = 'train_data_hist_%s' % train.columns[i]\n",
    "#     plt.savefig(figures_folder + fig_name)"
   ]
  },
  {
   "cell_type": "markdown",
   "metadata": {},
   "source": [
    "### The results on test dataset are pretty good. We can train the model more to get further improvements in the results, but there is a chance of overfitting."
   ]
  },
  {
   "cell_type": "markdown",
   "metadata": {},
   "source": [
    "## Anomaly Detection using Autoencoders"
   ]
  },
  {
   "cell_type": "code",
   "execution_count": 101,
   "metadata": {},
   "outputs": [],
   "source": [
    "## Finding single-most anomalous data item for all the 4 variables.\n",
    "N = x_test.shape[0]\n",
    "mse_losses = {}\n",
    "for i in range(N):\n",
    "    mse_losses[i] = loss_func(x_test[i], torch.tensor(pred)[i])"
   ]
  },
  {
   "cell_type": "markdown",
   "metadata": {},
   "source": [
    "### These are the top k anomalies in our dataset according to the mean squared error. "
   ]
  },
  {
   "cell_type": "code",
   "execution_count": 102,
   "metadata": {},
   "outputs": [],
   "source": [
    "k = 10\n",
    "top_k_anomalies = sorted(mse_losses.items(), key=lambda x: x[1], reverse=True)[:k]"
   ]
  },
  {
   "cell_type": "code",
   "execution_count": 103,
   "metadata": {},
   "outputs": [
    {
     "name": "stdout",
     "output_type": "stream",
     "text": [
      "Dataset #27564: tensor([ 6.9125, 10.3283, -1.2359, -0.1189])\n",
      "Dataset #25830: tensor([ 1.9656,  3.8056, -0.0193,  1.5240])\n",
      "Dataset #2676: tensor([1.3603, 3.4524, 1.5454, 1.3151])\n",
      "Dataset #21462: tensor([0.9118, 3.3996, 0.0817, 1.4197])\n",
      "Dataset #24793: tensor([1.6079, 3.4667, 1.4650, 1.1699])\n",
      "Dataset #16549: tensor([-0.8665,  3.4464,  1.1612,  1.8157])\n",
      "Dataset #20208: tensor([1.0472, 3.2065, 0.0370, 0.8383])\n",
      "Dataset #8124: tensor([1.6693, 3.4794, 0.6776, 1.1820])\n",
      "Dataset #1520: tensor([3.2053, 3.9385, 0.3604, 1.2375])\n",
      "Dataset #27829: tensor([-0.7639,  1.9083,  1.6228, -0.1221])\n"
     ]
    }
   ],
   "source": [
    "for i in range(10):\n",
    "    print (\"Dataset #%s: %s\" %(top_k_anomalies[i][0], x_test[top_k_anomalies[i][0]]))"
   ]
  },
  {
   "cell_type": "markdown",
   "metadata": {},
   "source": [
    "### Think about the Future work"
   ]
  },
  {
   "cell_type": "code",
   "execution_count": null,
   "metadata": {},
   "outputs": [],
   "source": []
  }
 ],
 "metadata": {
  "kernelspec": {
   "display_name": "Python 3",
   "language": "python",
   "name": "python3"
  },
  "language_info": {
   "codemirror_mode": {
    "name": "ipython",
    "version": 3
   },
   "file_extension": ".py",
   "mimetype": "text/x-python",
   "name": "python",
   "nbconvert_exporter": "python",
   "pygments_lexer": "ipython3",
   "version": "3.7.6"
  }
 },
 "nbformat": 4,
 "nbformat_minor": 4
}
